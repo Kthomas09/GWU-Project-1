{
 "cells": [
  {
   "cell_type": "markdown",
   "metadata": {},
   "source": [
    " # >>! Purpose\n",
    "Covid_Data.csv contains data from dates 2020-02-29(February) - 2020-08-06(August). \n",
    "The intention is to create a program that separates out each state into its own dataframe, \n",
    "clean each new dataframe and analyze the data with the best graphs to show trends in the data.\n",
    "\n"
   ]
  },
  {
   "cell_type": "code",
   "execution_count": 1,
   "metadata": {},
   "outputs": [],
   "source": [
    "#import dependencies\n",
    "from datetime import datetime\n",
    "from calendar import month_abbr\n",
    "import pandas as pd\n",
    "import numpy as np\n",
    "import matplotlib.pyplot as plt\n",
    "import matplotlib.ticker as ticker"
   ]
  },
  {
   "cell_type": "code",
   "execution_count": 2,
   "metadata": {},
   "outputs": [],
   "source": [
    "deathsByState=pd.read_csv(\"/Users/Jen/Desktop/GWU/GWU-Project-1/data_resources/Covid_Data.csv\")"
   ]
  },
  {
   "cell_type": "markdown",
   "metadata": {},
   "source": [
    "------------------------------------------------------------------------------------------------------------------"
   ]
  },
  {
   "cell_type": "markdown",
   "metadata": {},
   "source": [
    "# >> Objective: \n",
    "Turn all 54 States into their own variables to hold a dataframe for covid over time by each state\n",
    "\n",
    "Steps/Pseudo Explanation\n",
    "\n",
    "Make List of States from original dataframe Positive and Negative Cases is Cumulative by State, Need to get the increase/difference by date Loop through States,\n",
    "Make loop for postivie total change by State totalChangePositive.append(secondvalue - firstvalue)\n",
    "Make loop for negative total change by State totalChangeNegative.append(secondvalue - firstvalue)"
   ]
  },
  {
   "cell_type": "markdown",
   "metadata": {},
   "source": [
    "# >! Preparing List\n",
    "Separating out the State column to have 55 distinct elements  "
   ]
  },
  {
   "cell_type": "code",
   "execution_count": 3,
   "metadata": {},
   "outputs": [
    {
     "name": "stdout",
     "output_type": "stream",
     "text": [
      "The states and territories included in analysis ['AK' 'AL' 'AR' 'AS' 'AZ' 'CA' 'CO' 'CT' 'DC' 'DE' 'FL' 'GA' 'GU' 'HI'\n",
      " 'IA' 'ID' 'IL' 'IN' 'KS' 'KY' 'LA' 'MA' 'MD' 'ME' 'MI' 'MN' 'MO' 'MP'\n",
      " 'MS' 'MT' 'NC' 'ND' 'NE' 'NH' 'NJ' 'NM' 'NV' 'NY' 'OH' 'OK' 'OR' 'PA'\n",
      " 'PR' 'RI' 'SC' 'SD' 'TN' 'TX' 'UT' 'VA' 'VI' 'VT' 'WA' 'WI' 'WV' 'WY']\n",
      "The length of states and territories list is: 56\n"
     ]
    }
   ],
   "source": [
    "#Separating out the State column to have 55 distinct elements \n",
    "#56 is the number of rows including the header\n",
    "print(f'The states and territories included in analysis {deathsByState.state.unique()}')\n",
    "print(f'The length of states and territories list is: {len(deathsByState.state.unique())}')"
   ]
  },
  {
   "cell_type": "markdown",
   "metadata": {},
   "source": [
    "------------------------------------------------------------------------------------------------------------------"
   ]
  },
  {
   "cell_type": "code",
   "execution_count": 4,
   "metadata": {},
   "outputs": [],
   "source": [
    "#Dropping the first 55 rows into a dataframe to work with\n",
    "deathsByState_drop = deathsByState.head(55)"
   ]
  },
  {
   "cell_type": "code",
   "execution_count": 5,
   "metadata": {},
   "outputs": [
    {
     "data": {
      "text/html": [
       "<div>\n",
       "<style scoped>\n",
       "    .dataframe tbody tr th:only-of-type {\n",
       "        vertical-align: middle;\n",
       "    }\n",
       "\n",
       "    .dataframe tbody tr th {\n",
       "        vertical-align: top;\n",
       "    }\n",
       "\n",
       "    .dataframe thead th {\n",
       "        text-align: right;\n",
       "    }\n",
       "</style>\n",
       "<table border=\"1\" class=\"dataframe\">\n",
       "  <thead>\n",
       "    <tr style=\"text-align: right;\">\n",
       "      <th></th>\n",
       "      <th>date</th>\n",
       "      <th>state</th>\n",
       "      <th>positive</th>\n",
       "      <th>negative</th>\n",
       "      <th>pending</th>\n",
       "      <th>hospitalizedCurrently</th>\n",
       "      <th>hospitalizedCumulative</th>\n",
       "      <th>inIcuCurrently</th>\n",
       "      <th>inIcuCumulative</th>\n",
       "      <th>onVentilatorCurrently</th>\n",
       "      <th>...</th>\n",
       "      <th>posNeg</th>\n",
       "      <th>deathIncrease</th>\n",
       "      <th>hospitalizedIncrease</th>\n",
       "      <th>hash</th>\n",
       "      <th>commercialScore</th>\n",
       "      <th>negativeRegularScore</th>\n",
       "      <th>negativeScore</th>\n",
       "      <th>positiveScore</th>\n",
       "      <th>score</th>\n",
       "      <th>grade</th>\n",
       "    </tr>\n",
       "  </thead>\n",
       "  <tbody>\n",
       "    <tr>\n",
       "      <th>54</th>\n",
       "      <td>20200806</td>\n",
       "      <td>WV</td>\n",
       "      <td>7277.0</td>\n",
       "      <td>300132.0</td>\n",
       "      <td>NaN</td>\n",
       "      <td>123.0</td>\n",
       "      <td>NaN</td>\n",
       "      <td>47.0</td>\n",
       "      <td>NaN</td>\n",
       "      <td>11.0</td>\n",
       "      <td>...</td>\n",
       "      <td>307409</td>\n",
       "      <td>0</td>\n",
       "      <td>0</td>\n",
       "      <td>ebf5f834f24f25065c7f848557a5cfe8de6e1bd3</td>\n",
       "      <td>0</td>\n",
       "      <td>0</td>\n",
       "      <td>0</td>\n",
       "      <td>0</td>\n",
       "      <td>0</td>\n",
       "      <td>NaN</td>\n",
       "    </tr>\n",
       "  </tbody>\n",
       "</table>\n",
       "<p>1 rows × 41 columns</p>\n",
       "</div>"
      ],
      "text/plain": [
       "        date state  positive  negative  pending  hospitalizedCurrently  \\\n",
       "54  20200806    WV    7277.0  300132.0      NaN                  123.0   \n",
       "\n",
       "    hospitalizedCumulative  inIcuCurrently  inIcuCumulative  \\\n",
       "54                     NaN            47.0              NaN   \n",
       "\n",
       "    onVentilatorCurrently  ...  posNeg  deathIncrease hospitalizedIncrease  \\\n",
       "54                   11.0  ...  307409              0                    0   \n",
       "\n",
       "                                        hash commercialScore  \\\n",
       "54  ebf5f834f24f25065c7f848557a5cfe8de6e1bd3               0   \n",
       "\n",
       "   negativeRegularScore  negativeScore  positiveScore score  grade  \n",
       "54                    0              0              0     0    NaN  \n",
       "\n",
       "[1 rows x 41 columns]"
      ]
     },
     "execution_count": 5,
     "metadata": {},
     "output_type": "execute_result"
    }
   ],
   "source": [
    "deathsByState_drop.iloc[[54]]"
   ]
  },
  {
   "cell_type": "code",
   "execution_count": 6,
   "metadata": {},
   "outputs": [],
   "source": [
    "stateSeries = deathsByState['state'][:55]\n",
    "#print(stateSeries)"
   ]
  },
  {
   "cell_type": "markdown",
   "metadata": {},
   "source": [
    "------------------------------------------------------------------------------------------------------------------"
   ]
  },
  {
   "cell_type": "markdown",
   "metadata": {},
   "source": [
    "# >>! Global Variables\n",
    "Putting the two together// this code grabs all elements from column state and makes them their independent dataframes"
   ]
  },
  {
   "cell_type": "code",
   "execution_count": 7,
   "metadata": {},
   "outputs": [],
   "source": [
    "#Magic code ***************************************************************************\n",
    "count = stateSeries\n",
    "for i in stateSeries:\n",
    "    count = deathsByState.loc[(deathsByState['state'] == i)]\n",
    "    globals()[i] = count"
   ]
  },
  {
   "cell_type": "code",
   "execution_count": 8,
   "metadata": {},
   "outputs": [],
   "source": [
    "#Verifying that FL is now a variable with all of the Florida data assigned\n",
    "#FL\n"
   ]
  },
  {
   "cell_type": "markdown",
   "metadata": {},
   "source": [
    "------------------------------------------------------------------------------------------------------------------"
   ]
  },
  {
   "cell_type": "markdown",
   "metadata": {},
   "source": [
    "# !< Creating a Daterange Series\n",
    "Sixth Attempt\n",
    "\n",
    "Appending Months to their corresponding formated month exp 20200830 = August"
   ]
  },
  {
   "cell_type": "code",
   "execution_count": 9,
   "metadata": {},
   "outputs": [
    {
     "name": "stderr",
     "output_type": "stream",
     "text": [
      "/Users/Jen/anaconda3/lib/python3.7/site-packages/ipykernel_launcher.py:7: SettingWithCopyWarning: \n",
      "A value is trying to be set on a copy of a slice from a DataFrame.\n",
      "Try using .loc[row_indexer,col_indexer] = value instead\n",
      "\n",
      "See the caveats in the documentation: https://pandas.pydata.org/pandas-docs/stable/user_guide/indexing.html#returning-a-view-versus-a-copy\n",
      "  import sys\n"
     ]
    }
   ],
   "source": [
    "#Converting row CA['date'] to a string for slicing\n",
    "#CA\n",
    "#numpy.ndarray.astype(dtype, copy=False)\n",
    "#df['DataFrame Column'] = df['DataFrame Column'].astype(str)\n",
    "#Note about the Error: This warning is occuring due \n",
    "#to the new column being added in place\n",
    "CA['date']= CA['date'].astype('str', copy=False)"
   ]
  },
  {
   "cell_type": "code",
   "execution_count": 10,
   "metadata": {},
   "outputs": [],
   "source": [
    "#CA['date'].dtype"
   ]
  },
  {
   "cell_type": "code",
   "execution_count": 11,
   "metadata": {},
   "outputs": [],
   "source": [
    "#month_dict is a dictinary that arranges the data with Key(Number), Value(Months) Pair\n",
    "month_dict = {i: month_abbr[i] for i in range(1, 13)}"
   ]
  },
  {
   "cell_type": "code",
   "execution_count": 12,
   "metadata": {},
   "outputs": [
    {
     "name": "stderr",
     "output_type": "stream",
     "text": [
      "/Users/Jen/anaconda3/lib/python3.7/site-packages/ipykernel_launcher.py:15: SettingWithCopyWarning: \n",
      "A value is trying to be set on a copy of a slice from a DataFrame.\n",
      "Try using .loc[row_indexer,col_indexer] = value instead\n",
      "\n",
      "See the caveats in the documentation: https://pandas.pydata.org/pandas-docs/stable/user_guide/indexing.html#returning-a-view-versus-a-copy\n",
      "  from ipykernel import kernelapp as app\n"
     ]
    }
   ],
   "source": [
    "#this is a function that splits all of the raw unformatted dates \n",
    "#makes a column\n",
    "#and maps them over the month_dict\n",
    "\n",
    "def get_month_abbrev(row_in_date_col):\n",
    "    split = row_in_date_col.split(\"0\")\n",
    "    #iterating over rows splitting formatted date into a list of strings\n",
    "    #counting the location of the splits\n",
    "    if split[2] == '':\n",
    "        idx = split[3][0]\n",
    "    else:\n",
    "        idx = split[2]\n",
    "    #print(split)\n",
    "    return month_dict[int(idx)]\n",
    "CA['daterange'] = CA['date'].map(get_month_abbrev)"
   ]
  },
  {
   "cell_type": "code",
   "execution_count": 13,
   "metadata": {},
   "outputs": [],
   "source": [
    "#month_dict"
   ]
  },
  {
   "cell_type": "code",
   "execution_count": 14,
   "metadata": {},
   "outputs": [],
   "source": [
    "#confirming that all the rows have the corresponding months in new column\n",
    "#CA['daterange']"
   ]
  },
  {
   "cell_type": "code",
   "execution_count": 15,
   "metadata": {},
   "outputs": [],
   "source": [
    "#Confirming that CA['daterange'] was appended to DF\n",
    "#CA"
   ]
  },
  {
   "cell_type": "markdown",
   "metadata": {},
   "source": [
    "---------------------------------------------------------------------------------------"
   ]
  },
  {
   "cell_type": "markdown",
   "metadata": {},
   "source": [
    "# >! \n",
    "Reformatting index so that Index becomes the X Value"
   ]
  },
  {
   "cell_type": "code",
   "execution_count": 16,
   "metadata": {},
   "outputs": [],
   "source": [
    "#Values are based on current date, flipping to decending for graph\n",
    "FL = FL.sort_values(by='date', ascending=True)\n",
    "CA = CA.sort_values(by='date', ascending=True)\n",
    "NY = NY.sort_values(by='date', ascending=True)"
   ]
  },
  {
   "cell_type": "code",
   "execution_count": 17,
   "metadata": {},
   "outputs": [],
   "source": [
    "FL=FL.reset_index()\n",
    "CA=CA.reset_index()\n",
    "NY=NY.reset_index()"
   ]
  },
  {
   "cell_type": "code",
   "execution_count": 18,
   "metadata": {
    "scrolled": true
   },
   "outputs": [
    {
     "data": {
      "text/html": [
       "<div>\n",
       "<style scoped>\n",
       "    .dataframe tbody tr th:only-of-type {\n",
       "        vertical-align: middle;\n",
       "    }\n",
       "\n",
       "    .dataframe tbody tr th {\n",
       "        vertical-align: top;\n",
       "    }\n",
       "\n",
       "    .dataframe thead th {\n",
       "        text-align: right;\n",
       "    }\n",
       "</style>\n",
       "<table border=\"1\" class=\"dataframe\">\n",
       "  <thead>\n",
       "    <tr style=\"text-align: right;\">\n",
       "      <th></th>\n",
       "      <th>index</th>\n",
       "      <th>date</th>\n",
       "      <th>state</th>\n",
       "      <th>positive</th>\n",
       "      <th>negative</th>\n",
       "      <th>pending</th>\n",
       "      <th>hospitalizedCurrently</th>\n",
       "      <th>hospitalizedCumulative</th>\n",
       "      <th>inIcuCurrently</th>\n",
       "      <th>inIcuCumulative</th>\n",
       "      <th>...</th>\n",
       "      <th>posNeg</th>\n",
       "      <th>deathIncrease</th>\n",
       "      <th>hospitalizedIncrease</th>\n",
       "      <th>hash</th>\n",
       "      <th>commercialScore</th>\n",
       "      <th>negativeRegularScore</th>\n",
       "      <th>negativeScore</th>\n",
       "      <th>positiveScore</th>\n",
       "      <th>score</th>\n",
       "      <th>grade</th>\n",
       "    </tr>\n",
       "  </thead>\n",
       "  <tbody>\n",
       "    <tr>\n",
       "      <th>0</th>\n",
       "      <td>8580</td>\n",
       "      <td>20200304</td>\n",
       "      <td>FL</td>\n",
       "      <td>2.0</td>\n",
       "      <td>24.0</td>\n",
       "      <td>16.0</td>\n",
       "      <td>NaN</td>\n",
       "      <td>NaN</td>\n",
       "      <td>NaN</td>\n",
       "      <td>NaN</td>\n",
       "      <td>...</td>\n",
       "      <td>26</td>\n",
       "      <td>0</td>\n",
       "      <td>0</td>\n",
       "      <td>b53d530bf94552ea4304fbfd2b4f20eacbb62dce</td>\n",
       "      <td>0</td>\n",
       "      <td>0</td>\n",
       "      <td>0</td>\n",
       "      <td>0</td>\n",
       "      <td>0</td>\n",
       "      <td>NaN</td>\n",
       "    </tr>\n",
       "    <tr>\n",
       "      <th>1</th>\n",
       "      <td>8558</td>\n",
       "      <td>20200305</td>\n",
       "      <td>FL</td>\n",
       "      <td>9.0</td>\n",
       "      <td>31.0</td>\n",
       "      <td>69.0</td>\n",
       "      <td>NaN</td>\n",
       "      <td>NaN</td>\n",
       "      <td>NaN</td>\n",
       "      <td>NaN</td>\n",
       "      <td>...</td>\n",
       "      <td>40</td>\n",
       "      <td>0</td>\n",
       "      <td>0</td>\n",
       "      <td>78051844675b3464a839fe95c5e0c40c0fd79ca1</td>\n",
       "      <td>0</td>\n",
       "      <td>0</td>\n",
       "      <td>0</td>\n",
       "      <td>0</td>\n",
       "      <td>0</td>\n",
       "      <td>NaN</td>\n",
       "    </tr>\n",
       "    <tr>\n",
       "      <th>2</th>\n",
       "      <td>8525</td>\n",
       "      <td>20200306</td>\n",
       "      <td>FL</td>\n",
       "      <td>9.0</td>\n",
       "      <td>55.0</td>\n",
       "      <td>51.0</td>\n",
       "      <td>NaN</td>\n",
       "      <td>NaN</td>\n",
       "      <td>NaN</td>\n",
       "      <td>NaN</td>\n",
       "      <td>...</td>\n",
       "      <td>64</td>\n",
       "      <td>0</td>\n",
       "      <td>0</td>\n",
       "      <td>a0172193d7cf2c1c45c672b3e64fa0a0b9ec807c</td>\n",
       "      <td>0</td>\n",
       "      <td>0</td>\n",
       "      <td>0</td>\n",
       "      <td>0</td>\n",
       "      <td>0</td>\n",
       "      <td>NaN</td>\n",
       "    </tr>\n",
       "    <tr>\n",
       "      <th>3</th>\n",
       "      <td>8477</td>\n",
       "      <td>20200307</td>\n",
       "      <td>FL</td>\n",
       "      <td>14.0</td>\n",
       "      <td>100.0</td>\n",
       "      <td>88.0</td>\n",
       "      <td>NaN</td>\n",
       "      <td>NaN</td>\n",
       "      <td>NaN</td>\n",
       "      <td>NaN</td>\n",
       "      <td>...</td>\n",
       "      <td>114</td>\n",
       "      <td>0</td>\n",
       "      <td>0</td>\n",
       "      <td>914041890fd2c1e06a80fbbbd47f2289c9958968</td>\n",
       "      <td>0</td>\n",
       "      <td>0</td>\n",
       "      <td>0</td>\n",
       "      <td>0</td>\n",
       "      <td>0</td>\n",
       "      <td>NaN</td>\n",
       "    </tr>\n",
       "    <tr>\n",
       "      <th>4</th>\n",
       "      <td>8427</td>\n",
       "      <td>20200308</td>\n",
       "      <td>FL</td>\n",
       "      <td>17.0</td>\n",
       "      <td>118.0</td>\n",
       "      <td>108.0</td>\n",
       "      <td>NaN</td>\n",
       "      <td>NaN</td>\n",
       "      <td>NaN</td>\n",
       "      <td>NaN</td>\n",
       "      <td>...</td>\n",
       "      <td>135</td>\n",
       "      <td>0</td>\n",
       "      <td>0</td>\n",
       "      <td>3d2942aef7f73ad5a50a33896138a9403e50638d</td>\n",
       "      <td>0</td>\n",
       "      <td>0</td>\n",
       "      <td>0</td>\n",
       "      <td>0</td>\n",
       "      <td>0</td>\n",
       "      <td>NaN</td>\n",
       "    </tr>\n",
       "    <tr>\n",
       "      <th>...</th>\n",
       "      <td>...</td>\n",
       "      <td>...</td>\n",
       "      <td>...</td>\n",
       "      <td>...</td>\n",
       "      <td>...</td>\n",
       "      <td>...</td>\n",
       "      <td>...</td>\n",
       "      <td>...</td>\n",
       "      <td>...</td>\n",
       "      <td>...</td>\n",
       "      <td>...</td>\n",
       "      <td>...</td>\n",
       "      <td>...</td>\n",
       "      <td>...</td>\n",
       "      <td>...</td>\n",
       "      <td>...</td>\n",
       "      <td>...</td>\n",
       "      <td>...</td>\n",
       "      <td>...</td>\n",
       "      <td>...</td>\n",
       "      <td>...</td>\n",
       "    </tr>\n",
       "    <tr>\n",
       "      <th>151</th>\n",
       "      <td>234</td>\n",
       "      <td>20200802</td>\n",
       "      <td>FL</td>\n",
       "      <td>487132.0</td>\n",
       "      <td>3233865.0</td>\n",
       "      <td>3394.0</td>\n",
       "      <td>7952.0</td>\n",
       "      <td>27524.0</td>\n",
       "      <td>NaN</td>\n",
       "      <td>NaN</td>\n",
       "      <td>...</td>\n",
       "      <td>3720997</td>\n",
       "      <td>62</td>\n",
       "      <td>180</td>\n",
       "      <td>4226aafea9046160b5186e830453e60c65487f65</td>\n",
       "      <td>0</td>\n",
       "      <td>0</td>\n",
       "      <td>0</td>\n",
       "      <td>0</td>\n",
       "      <td>0</td>\n",
       "      <td>NaN</td>\n",
       "    </tr>\n",
       "    <tr>\n",
       "      <th>152</th>\n",
       "      <td>178</td>\n",
       "      <td>20200803</td>\n",
       "      <td>FL</td>\n",
       "      <td>491884.0</td>\n",
       "      <td>3260914.0</td>\n",
       "      <td>3228.0</td>\n",
       "      <td>7938.0</td>\n",
       "      <td>27744.0</td>\n",
       "      <td>NaN</td>\n",
       "      <td>NaN</td>\n",
       "      <td>...</td>\n",
       "      <td>3752798</td>\n",
       "      <td>73</td>\n",
       "      <td>220</td>\n",
       "      <td>cb1200bf3ba3db8d3202aa4e724943524037bba4</td>\n",
       "      <td>0</td>\n",
       "      <td>0</td>\n",
       "      <td>0</td>\n",
       "      <td>0</td>\n",
       "      <td>0</td>\n",
       "      <td>NaN</td>\n",
       "    </tr>\n",
       "    <tr>\n",
       "      <th>153</th>\n",
       "      <td>122</td>\n",
       "      <td>20200804</td>\n",
       "      <td>FL</td>\n",
       "      <td>497330.0</td>\n",
       "      <td>3287128.0</td>\n",
       "      <td>3280.0</td>\n",
       "      <td>7857.0</td>\n",
       "      <td>28333.0</td>\n",
       "      <td>NaN</td>\n",
       "      <td>NaN</td>\n",
       "      <td>...</td>\n",
       "      <td>3784458</td>\n",
       "      <td>247</td>\n",
       "      <td>589</td>\n",
       "      <td>1b31b1a08b39801931c5906c421002bd8e4ac9a9</td>\n",
       "      <td>0</td>\n",
       "      <td>0</td>\n",
       "      <td>0</td>\n",
       "      <td>0</td>\n",
       "      <td>0</td>\n",
       "      <td>NaN</td>\n",
       "    </tr>\n",
       "    <tr>\n",
       "      <th>154</th>\n",
       "      <td>66</td>\n",
       "      <td>20200805</td>\n",
       "      <td>FL</td>\n",
       "      <td>502739.0</td>\n",
       "      <td>3312145.0</td>\n",
       "      <td>3277.0</td>\n",
       "      <td>7615.0</td>\n",
       "      <td>28956.0</td>\n",
       "      <td>NaN</td>\n",
       "      <td>NaN</td>\n",
       "      <td>...</td>\n",
       "      <td>3814884</td>\n",
       "      <td>225</td>\n",
       "      <td>623</td>\n",
       "      <td>df3ca7e5b82e443c67bc254da0ec0233c8d8eb56</td>\n",
       "      <td>0</td>\n",
       "      <td>0</td>\n",
       "      <td>0</td>\n",
       "      <td>0</td>\n",
       "      <td>0</td>\n",
       "      <td>NaN</td>\n",
       "    </tr>\n",
       "    <tr>\n",
       "      <th>155</th>\n",
       "      <td>10</td>\n",
       "      <td>20200806</td>\n",
       "      <td>FL</td>\n",
       "      <td>510389.0</td>\n",
       "      <td>3346974.0</td>\n",
       "      <td>3325.0</td>\n",
       "      <td>7459.0</td>\n",
       "      <td>29515.0</td>\n",
       "      <td>NaN</td>\n",
       "      <td>NaN</td>\n",
       "      <td>...</td>\n",
       "      <td>3857363</td>\n",
       "      <td>120</td>\n",
       "      <td>559</td>\n",
       "      <td>5133c0415f2ad100e70476139a8b9e436006f4b6</td>\n",
       "      <td>0</td>\n",
       "      <td>0</td>\n",
       "      <td>0</td>\n",
       "      <td>0</td>\n",
       "      <td>0</td>\n",
       "      <td>NaN</td>\n",
       "    </tr>\n",
       "  </tbody>\n",
       "</table>\n",
       "<p>156 rows × 42 columns</p>\n",
       "</div>"
      ],
      "text/plain": [
       "     index      date state  positive   negative  pending  \\\n",
       "0     8580  20200304    FL       2.0       24.0     16.0   \n",
       "1     8558  20200305    FL       9.0       31.0     69.0   \n",
       "2     8525  20200306    FL       9.0       55.0     51.0   \n",
       "3     8477  20200307    FL      14.0      100.0     88.0   \n",
       "4     8427  20200308    FL      17.0      118.0    108.0   \n",
       "..     ...       ...   ...       ...        ...      ...   \n",
       "151    234  20200802    FL  487132.0  3233865.0   3394.0   \n",
       "152    178  20200803    FL  491884.0  3260914.0   3228.0   \n",
       "153    122  20200804    FL  497330.0  3287128.0   3280.0   \n",
       "154     66  20200805    FL  502739.0  3312145.0   3277.0   \n",
       "155     10  20200806    FL  510389.0  3346974.0   3325.0   \n",
       "\n",
       "     hospitalizedCurrently  hospitalizedCumulative  inIcuCurrently  \\\n",
       "0                      NaN                     NaN             NaN   \n",
       "1                      NaN                     NaN             NaN   \n",
       "2                      NaN                     NaN             NaN   \n",
       "3                      NaN                     NaN             NaN   \n",
       "4                      NaN                     NaN             NaN   \n",
       "..                     ...                     ...             ...   \n",
       "151                 7952.0                 27524.0             NaN   \n",
       "152                 7938.0                 27744.0             NaN   \n",
       "153                 7857.0                 28333.0             NaN   \n",
       "154                 7615.0                 28956.0             NaN   \n",
       "155                 7459.0                 29515.0             NaN   \n",
       "\n",
       "     inIcuCumulative  ...   posNeg  deathIncrease  hospitalizedIncrease  \\\n",
       "0                NaN  ...       26              0                     0   \n",
       "1                NaN  ...       40              0                     0   \n",
       "2                NaN  ...       64              0                     0   \n",
       "3                NaN  ...      114              0                     0   \n",
       "4                NaN  ...      135              0                     0   \n",
       "..               ...  ...      ...            ...                   ...   \n",
       "151              NaN  ...  3720997             62                   180   \n",
       "152              NaN  ...  3752798             73                   220   \n",
       "153              NaN  ...  3784458            247                   589   \n",
       "154              NaN  ...  3814884            225                   623   \n",
       "155              NaN  ...  3857363            120                   559   \n",
       "\n",
       "                                         hash commercialScore  \\\n",
       "0    b53d530bf94552ea4304fbfd2b4f20eacbb62dce               0   \n",
       "1    78051844675b3464a839fe95c5e0c40c0fd79ca1               0   \n",
       "2    a0172193d7cf2c1c45c672b3e64fa0a0b9ec807c               0   \n",
       "3    914041890fd2c1e06a80fbbbd47f2289c9958968               0   \n",
       "4    3d2942aef7f73ad5a50a33896138a9403e50638d               0   \n",
       "..                                        ...             ...   \n",
       "151  4226aafea9046160b5186e830453e60c65487f65               0   \n",
       "152  cb1200bf3ba3db8d3202aa4e724943524037bba4               0   \n",
       "153  1b31b1a08b39801931c5906c421002bd8e4ac9a9               0   \n",
       "154  df3ca7e5b82e443c67bc254da0ec0233c8d8eb56               0   \n",
       "155  5133c0415f2ad100e70476139a8b9e436006f4b6               0   \n",
       "\n",
       "    negativeRegularScore negativeScore  positiveScore  score grade  \n",
       "0                      0             0              0      0   NaN  \n",
       "1                      0             0              0      0   NaN  \n",
       "2                      0             0              0      0   NaN  \n",
       "3                      0             0              0      0   NaN  \n",
       "4                      0             0              0      0   NaN  \n",
       "..                   ...           ...            ...    ...   ...  \n",
       "151                    0             0              0      0   NaN  \n",
       "152                    0             0              0      0   NaN  \n",
       "153                    0             0              0      0   NaN  \n",
       "154                    0             0              0      0   NaN  \n",
       "155                    0             0              0      0   NaN  \n",
       "\n",
       "[156 rows x 42 columns]"
      ]
     },
     "execution_count": 18,
     "metadata": {},
     "output_type": "execute_result"
    }
   ],
   "source": [
    "FL"
   ]
  },
  {
   "cell_type": "code",
   "execution_count": 19,
   "metadata": {},
   "outputs": [],
   "source": [
    "#df.rename(columns={\"A\": \"a\", \"B\": \"c\"})\n",
    "FL = FL.rename(columns = {'level_0': 'DateInterval'})\n",
    "FL = FL.drop(['index'], axis=1)\n",
    "CA = CA.rename(columns = {'level_0': 'DateInterval'})\n",
    "CA = CA.drop(['index'], axis=1)\n",
    "NY = NY.rename(columns = {'level_0': 'DateInterval'})\n",
    "NY = NY.drop(['index'], axis=1)"
   ]
  },
  {
   "cell_type": "code",
   "execution_count": 20,
   "metadata": {},
   "outputs": [],
   "source": [
    "#df['index1'] = df.index\n",
    "FL['index'] = FL.index\n",
    "CA['index'] = CA.index\n",
    "NY['index'] = NY.index"
   ]
  },
  {
   "cell_type": "code",
   "execution_count": 21,
   "metadata": {},
   "outputs": [
    {
     "data": {
      "text/plain": [
       "156"
      ]
     },
     "execution_count": 21,
     "metadata": {},
     "output_type": "execute_result"
    }
   ],
   "source": [
    "len(CA)"
   ]
  },
  {
   "cell_type": "markdown",
   "metadata": {},
   "source": [
    "# >! Line Graph Code\n",
    "This is the map code for NY, FL, and CA over time with an interval from the first case, = Day 1 of covid/March to August = Day 160\n",
    "Protected Variables are State Names, ie CA\n",
    "do not change these variables"
   ]
  },
  {
   "cell_type": "code",
   "execution_count": 22,
   "metadata": {},
   "outputs": [],
   "source": [
    "yAxisFL = FL['positive']\n",
    "yAxisCA = CA['positive']\n",
    "yAxisNY = NY['positive']\n",
    "xAxisFL = CA['index']\n",
    "xAxisCA = CA['index']\n",
    "xAxisNY = CA['index']\n"
   ]
  },
  {
   "cell_type": "code",
   "execution_count": null,
   "metadata": {},
   "outputs": [],
   "source": []
  },
  {
   "cell_type": "code",
   "execution_count": null,
   "metadata": {},
   "outputs": [],
   "source": []
  },
  {
   "cell_type": "code",
   "execution_count": 23,
   "metadata": {},
   "outputs": [
    {
     "data": {
      "image/png": "[encoded data removed]",
      "text/plain": [
       "<Figure size 720x360 with 1 Axes>"
      ]
     },
     "metadata": {
      "needs_background": "light"
     },
     "output_type": "display_data"
    },
    {
     "data": {
      "text/plain": [
       "<Figure size 432x288 with 0 Axes>"
      ]
     },
     "metadata": {},
     "output_type": "display_data"
    }
   ],
   "source": [
    "#using pyplot to illustrate the increase in covid over time\n",
    "fig, ax = plt.subplots(figsize=(10,5))\n",
    "ax.plot(xAxisCA, yAxisCA, color='green', label = 'California Cases of Covid')\n",
    "ax.plot(xAxisFL, yAxisFL, color='blue', label = 'Florida Cases of Covid')\n",
    "ax.plot(xAxisNY, yAxisNY, color='red', label = 'New York Cases of Covid')\n",
    "ax.set_xlabel('Time Interval')\n",
    "ax.set_xlabel('Positive Cases')\n",
    "ax.legend(loc='upper left', frameon=True) \n",
    "plt.xticks(CA.index, CA.daterange.unique())\n",
    "plt.locator_params(nbins=6)\n",
    "for tick in ax.get_xticklabels():\n",
    "    tick.set_rotation(45)\n",
    "plt.title('COVID Positive Cases: March - August')\n",
    "plt.show()\n",
    "plt.savefig(\"CovidStateGraph.png\")"
   ]
  },
  {
   "cell_type": "markdown",
   "metadata": {},
   "source": [
    "# !> Summation & Analysis\n",
    "For this set of data the states chosen are to represent COVID cases from the supposed beginning of the outbreak to the closest date for this analysis. Based on the graph and the data, the middle of March is when the first cases of COVID appeared. New York was the first state to recieve appreciable cases of COVID. Their cases went from a little under 10,000 to close to 300,000 cases in one month(from April to May). The figure above represents the change in cases over time for the data beginning on March 4, 2020 to August 6, 2020. Other suggestions to consider and study is the relation of the data to the 'Shut down', when each individual state set new guidelines for the openning and closing of businesses. Further work suggested is a cumulative line for cases over the United States, and a graph that shows all the states increase over time."
   ]
  },
  {
   "cell_type": "markdown",
   "metadata": {},
   "source": [
    "# !> Resources\n",
    "The data comes from the COVID Tracking Project, an organization formed by 'The Atlanic'\n",
    "a newspaper and online resource for news. They collect COVID data from all 50 states and territories daily. \n",
    "\n",
    "Link to Resource: https://covidtracking.com/\n",
    "Link to CSV: https://covidtracking.com/api/v1/states/daily.csv"
   ]
  },
  {
   "cell_type": "markdown",
   "metadata": {},
   "source": [
    "# !> Credits\n",
    "\n",
    "Code by Jen S\n",
    "Cynthia, David, and Kent all assisted in setup, code development and debugging of this data aqusition."
   ]
  }
 ],
 "metadata": {
  "kernelspec": {
   "display_name": "Python 3",
   "language": "python",
   "name": "python3"
  },
  "language_info": {
   "codemirror_mode": {
    "name": "ipython",
    "version": 3
   },
   "file_extension": ".py",
   "mimetype": "text/x-python",
   "name": "python",
   "nbconvert_exporter": "python",
   "pygments_lexer": "ipython3",
   "version": "3.7.7"
  }
 },
 "nbformat": 4,
 "nbformat_minor": 4
}
